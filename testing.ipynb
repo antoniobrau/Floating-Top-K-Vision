{
 "cells": [
  {
   "cell_type": "code",
   "execution_count": 13,
   "id": "de175024",
   "metadata": {},
   "outputs": [
    {
     "data": {
      "text/html": [
       "<div>\n",
       "<style scoped>\n",
       "    .dataframe tbody tr th:only-of-type {\n",
       "        vertical-align: middle;\n",
       "    }\n",
       "\n",
       "    .dataframe tbody tr th {\n",
       "        vertical-align: top;\n",
       "    }\n",
       "\n",
       "    .dataframe thead th {\n",
       "        text-align: right;\n",
       "    }\n",
       "</style>\n",
       "<table border=\"1\" class=\"dataframe\">\n",
       "  <thead>\n",
       "    <tr style=\"text-align: right;\">\n",
       "      <th></th>\n",
       "      <th>Pattern</th>\n",
       "      <th>Sum_level</th>\n",
       "      <th>Count_level</th>\n",
       "    </tr>\n",
       "  </thead>\n",
       "  <tbody>\n",
       "    <tr>\n",
       "      <th>189746</th>\n",
       "      <td>134217727</td>\n",
       "      <td>138587</td>\n",
       "      <td>10</td>\n",
       "    </tr>\n",
       "    <tr>\n",
       "      <th>189720</th>\n",
       "      <td>0</td>\n",
       "      <td>135284</td>\n",
       "      <td>10</td>\n",
       "    </tr>\n",
       "    <tr>\n",
       "      <th>189207</th>\n",
       "      <td>511</td>\n",
       "      <td>109665</td>\n",
       "      <td>10</td>\n",
       "    </tr>\n",
       "    <tr>\n",
       "      <th>45217</th>\n",
       "      <td>134217216</td>\n",
       "      <td>101361</td>\n",
       "      <td>10</td>\n",
       "    </tr>\n",
       "    <tr>\n",
       "      <th>188084</th>\n",
       "      <td>133955584</td>\n",
       "      <td>101233</td>\n",
       "      <td>10</td>\n",
       "    </tr>\n",
       "    <tr>\n",
       "      <th>...</th>\n",
       "      <td>...</td>\n",
       "      <td>...</td>\n",
       "      <td>...</td>\n",
       "    </tr>\n",
       "    <tr>\n",
       "      <th>348886</th>\n",
       "      <td>24227024</td>\n",
       "      <td>446</td>\n",
       "      <td>1</td>\n",
       "    </tr>\n",
       "    <tr>\n",
       "      <th>348889</th>\n",
       "      <td>125273663</td>\n",
       "      <td>446</td>\n",
       "      <td>1</td>\n",
       "    </tr>\n",
       "    <tr>\n",
       "      <th>348891</th>\n",
       "      <td>117421016</td>\n",
       "      <td>446</td>\n",
       "      <td>1</td>\n",
       "    </tr>\n",
       "    <tr>\n",
       "      <th>348916</th>\n",
       "      <td>81755452</td>\n",
       "      <td>446</td>\n",
       "      <td>1</td>\n",
       "    </tr>\n",
       "    <tr>\n",
       "      <th>348913</th>\n",
       "      <td>19679391</td>\n",
       "      <td>446</td>\n",
       "      <td>1</td>\n",
       "    </tr>\n",
       "  </tbody>\n",
       "</table>\n",
       "<p>485143 rows × 3 columns</p>\n",
       "</div>"
      ],
      "text/plain": [
       "          Pattern  Sum_level  Count_level\n",
       "189746  134217727     138587           10\n",
       "189720          0     135284           10\n",
       "189207        511     109665           10\n",
       "45217   134217216     101361           10\n",
       "188084  133955584     101233           10\n",
       "...           ...        ...          ...\n",
       "348886   24227024        446            1\n",
       "348889  125273663        446            1\n",
       "348891  117421016        446            1\n",
       "348916   81755452        446            1\n",
       "348913   19679391        446            1\n",
       "\n",
       "[485143 rows x 3 columns]"
      ]
     },
     "execution_count": 13,
     "metadata": {},
     "output_type": "execute_result"
    }
   ],
   "source": [
    "import pandas as pd\n",
    "from pathlib import Path\n",
    "\n",
    "directory_out = Path.cwd()/ \"data\"/ \"out\" / \"out.csv\"\n",
    "data = pd.read_csv(directory_out, comment=\"#\", delimiter=\";\")\n",
    "\n",
    "data.sort_values(by=\"Sum_level\", ascending=False)"
   ]
  },
  {
   "cell_type": "code",
   "execution_count": 10,
   "id": "a2c970f5",
   "metadata": {},
   "outputs": [
    {
     "name": "stdout",
     "output_type": "stream",
     "text": [
      "Index(['Pattern;Sum_level;Count_level'], dtype='object')\n"
     ]
    }
   ],
   "source": [
    "print(data.columns)"
   ]
  }
 ],
 "metadata": {
  "kernelspec": {
   "display_name": "base",
   "language": "python",
   "name": "python3"
  },
  "language_info": {
   "codemirror_mode": {
    "name": "ipython",
    "version": 3
   },
   "file_extension": ".py",
   "mimetype": "text/x-python",
   "name": "python",
   "nbconvert_exporter": "python",
   "pygments_lexer": "ipython3",
   "version": "3.12.7"
  }
 },
 "nbformat": 4,
 "nbformat_minor": 5
}
